{
 "cells": [
  {
   "cell_type": "markdown",
   "id": "96d748bf",
   "metadata": {
    "_cell_guid": "b1076dfc-b9ad-4769-8c92-a6c4dae69d19",
    "_uuid": "8f2839f25d086af736a60e9eeb907d3b93b6e0e5",
    "papermill": {
     "duration": 0.007021,
     "end_time": "2024-06-11T21:34:41.515336",
     "exception": false,
     "start_time": "2024-06-11T21:34:41.508315",
     "status": "completed"
    },
    "tags": []
   },
   "source": [
    "# Exploring the Bikeshare Dataset (Interactive)"
   ]
  },
  {
   "cell_type": "code",
   "execution_count": 1,
   "id": "f6d460bc",
   "metadata": {
    "execution": {
     "iopub.execute_input": "2024-06-11T21:34:41.530983Z",
     "iopub.status.busy": "2024-06-11T21:34:41.530495Z",
     "iopub.status.idle": "2024-06-11T21:34:42.540182Z",
     "shell.execute_reply": "2024-06-11T21:34:42.539137Z"
    },
    "papermill": {
     "duration": 1.020475,
     "end_time": "2024-06-11T21:34:42.542952",
     "exception": false,
     "start_time": "2024-06-11T21:34:41.522477",
     "status": "completed"
    },
    "tags": []
   },
   "outputs": [],
   "source": [
    "### Importing the necessary libraries\n",
    "import time\n",
    "import pandas as pd\n",
    "import traceback # I used this to trace back the error catched"
   ]
  },
  {
   "cell_type": "code",
   "execution_count": 2,
   "id": "6a895cc3",
   "metadata": {
    "execution": {
     "iopub.execute_input": "2024-06-11T21:34:42.558118Z",
     "iopub.status.busy": "2024-06-11T21:34:42.557596Z",
     "iopub.status.idle": "2024-06-11T21:34:42.563342Z",
     "shell.execute_reply": "2024-06-11T21:34:42.562218Z"
    },
    "papermill": {
     "duration": 0.015919,
     "end_time": "2024-06-11T21:34:42.565600",
     "exception": false,
     "start_time": "2024-06-11T21:34:42.549681",
     "status": "completed"
    },
    "tags": []
   },
   "outputs": [],
   "source": [
    "#### this is the csv files dictionary\n",
    "CITY_DATA = { 'chicago': '/kaggle/input/bikeshare-analysis/Chicago-Divvy-2016.csv',\n",
    "              'new york city': '/kaggle/input/bikeshare-analysis/NYC-CitiBike-2016.csv',\n",
    "              'washington': '/kaggle/input/bikeshare-analysis/Washington-CapitalBikeshare-2016.csv' }"
   ]
  },
  {
   "cell_type": "code",
   "execution_count": 3,
   "id": "99dc940e",
   "metadata": {
    "execution": {
     "iopub.execute_input": "2024-06-11T21:34:42.580553Z",
     "iopub.status.busy": "2024-06-11T21:34:42.580160Z",
     "iopub.status.idle": "2024-06-11T21:34:42.587782Z",
     "shell.execute_reply": "2024-06-11T21:34:42.586541Z"
    },
    "papermill": {
     "duration": 0.017926,
     "end_time": "2024-06-11T21:34:42.590302",
     "exception": false,
     "start_time": "2024-06-11T21:34:42.572376",
     "status": "completed"
    },
    "tags": []
   },
   "outputs": [],
   "source": [
    "columns_standard_names = {\n",
    "    \"Duration (ms)\": \"trip_duration\", \"tripduration\":\"trip_duration\",\"tripduration\":\"trip_duration\",\n",
    "    \"Start date\": \"start_date_time\", \"starttime\":\"start_date_time\", \n",
    "    \"End date\": \"end_date_time\",\"stoptime\": \"end_date_time\",\n",
    "    \"Start station number\": \"start_station_ID\", \"start station id\": \"start_station_ID\",\n",
    "    \"from_station_id\": \"start_station_ID\",\"from_station_name\":  \"start_station_name\", \n",
    "    \"start station name\" : \"start_station_name\", \"Start station\": \"start_station_name\", \n",
    "    \"End station\": \"end_station_name\",\"end station name\": \"end_station_name\",\n",
    "    \"to_station_name\": \"end_station_name\",\"to_station_id\": \"end_station_ID\",\n",
    "    \"end station id\": \"end_station_ID\",\"End station number\": \"end_station_ID\",\n",
    "    \"bikeid\": \"bike_ID\",\"Bike number\": \"bike_ID\",\n",
    "    \"usertype\": \"user_type\",\"Member Type\": \"user_type\",\n",
    "    \"birthyear\": \"birth_year\",\"birth year\": \"birth_year\"}"
   ]
  },
  {
   "cell_type": "code",
   "execution_count": 4,
   "id": "6f984e2c",
   "metadata": {
    "execution": {
     "iopub.execute_input": "2024-06-11T21:34:42.605032Z",
     "iopub.status.busy": "2024-06-11T21:34:42.604623Z",
     "iopub.status.idle": "2024-06-11T21:34:42.613840Z",
     "shell.execute_reply": "2024-06-11T21:34:42.612858Z"
    },
    "papermill": {
     "duration": 0.019401,
     "end_time": "2024-06-11T21:34:42.616284",
     "exception": false,
     "start_time": "2024-06-11T21:34:42.596883",
     "status": "completed"
    },
    "tags": []
   },
   "outputs": [],
   "source": [
    "# in this method load the dataset based on which city the user inputs \n",
    "def load_data(city, month, day):\n",
    "    \"\"\"\n",
    "    Loads data for the specified city and filters by month and day if applicable.\n",
    "\n",
    "    Args:\n",
    "        (str) city - name of the city to analyze\n",
    "        (str) month - name of the month to filter by, or \"all\" to apply no month filter\n",
    "        (str) day - name of the day of week to filter by, or \"all\" to apply no day filter\n",
    "    Returns:\n",
    "        df - Pandas DataFrame containing city data filtered by month and day\n",
    "    \"\"\"\n",
    "    # read the csv file using read_csv pandas based on the user input of cit\n",
    "    # I have decided to add the option all because why not exploring all of them together giving a broader view \n",
    "    if city != 'all':\n",
    "        df = pd.read_csv(CITY_DATA[city])\n",
    "    else:\n",
    "        # for all dataframes if the user choses all concate them\n",
    "        dfs = []\n",
    "        for city, path in CITY_DATA.items():\n",
    "            dfC = pd.read_csv(path)\n",
    "            dfC.rename(columns_standard_names,axis=1, inplace=True)\n",
    "            dfs.append(dfC)\n",
    "        \n",
    "        df = pd.concat(dfs, axis=0, ignore_index=True)\n",
    "    ## print(df)\n",
    "        drop = ['trip_id', 'start station latitude','start station longitude', 'end station latitude', 'end station longitude']\n",
    "        df.drop(columns=drop,axis=1, inplace= True)    \n",
    "    return df"
   ]
  },
  {
   "cell_type": "code",
   "execution_count": 5,
   "id": "a6953ce1",
   "metadata": {
    "execution": {
     "iopub.execute_input": "2024-06-11T21:34:42.631800Z",
     "iopub.status.busy": "2024-06-11T21:34:42.631016Z",
     "iopub.status.idle": "2024-06-11T21:34:42.637069Z",
     "shell.execute_reply": "2024-06-11T21:34:42.635931Z"
    },
    "papermill": {
     "duration": 0.016312,
     "end_time": "2024-06-11T21:34:42.639493",
     "exception": false,
     "start_time": "2024-06-11T21:34:42.623181",
     "status": "completed"
    },
    "tags": []
   },
   "outputs": [],
   "source": [
    "## this metohd I created to clean the data \n",
    "## cleaning the data included handling missing data \n",
    "## I have also handled the high cardinality of dates\n",
    "def clean_data(df, city):\n",
    "    \"\"\"\n",
    "    Args:\n",
    "        (pandas dataframe) df - takes a data frame with missing data probabloy and with not proper datatypes probably\n",
    "        (city) df - because in the case of washington some coulmns doesn't exists\n",
    "    Returns:\n",
    "        (pandas dataframe) df - imputed with unknown and date handled\n",
    "    \"\"\"\n",
    "    df = handle_dates(df, city)\n",
    "    df = handle_missing(df)\n",
    "    return df"
   ]
  },
  {
   "cell_type": "code",
   "execution_count": 6,
   "id": "2893d4c2",
   "metadata": {
    "execution": {
     "iopub.execute_input": "2024-06-11T21:34:42.654431Z",
     "iopub.status.busy": "2024-06-11T21:34:42.654012Z",
     "iopub.status.idle": "2024-06-11T21:34:42.661273Z",
     "shell.execute_reply": "2024-06-11T21:34:42.660142Z"
    },
    "papermill": {
     "duration": 0.017825,
     "end_time": "2024-06-11T21:34:42.663964",
     "exception": false,
     "start_time": "2024-06-11T21:34:42.646139",
     "status": "completed"
    },
    "tags": []
   },
   "outputs": [],
   "source": [
    "# this method I created to handle the missing data\n",
    "def handle_missing(df):\n",
    "    # when I have created the method display data I have notived that there\n",
    "    # is a missing coulmn name so I searched for it stands for on kaggle\n",
    "    # and it makes since that this is the bike ID, I think in this case\n",
    "    # the bike ID is irrelvant so I made the decision to drop it \n",
    "    # althought a possible query comes to mind what if there is a frequent bike ID for example\n",
    "    # in this project scope it is decided to drop it then\n",
    "    # print(df.columns) it is at index 0\n",
    "    df.drop(df.columns[0], axis = 1, inplace=True)\n",
    "\n",
    "    # I chose to fill them with Unknown \n",
    "    print('We have {} missing enteries'.format(df.isnull().sum().sum()) )\n",
    "    # fill Nan values using fillna method\n",
    "    df.fillna('Unknown', inplace=True)\n",
    "    print('These were filled by (Unknown) ')\n",
    "    return df"
   ]
  },
  {
   "cell_type": "code",
   "execution_count": 7,
   "id": "41cd66f2",
   "metadata": {
    "execution": {
     "iopub.execute_input": "2024-06-11T21:34:42.679181Z",
     "iopub.status.busy": "2024-06-11T21:34:42.678766Z",
     "iopub.status.idle": "2024-06-11T21:34:42.690728Z",
     "shell.execute_reply": "2024-06-11T21:34:42.689621Z"
    },
    "papermill": {
     "duration": 0.022119,
     "end_time": "2024-06-11T21:34:42.692966",
     "exception": false,
     "start_time": "2024-06-11T21:34:42.670847",
     "status": "completed"
    },
    "tags": []
   },
   "outputs": [],
   "source": [
    "## this method I created to handle the dates\n",
    "def handle_dates(df, city):\n",
    "    \"\"\"\n",
    "    Handle the dates as their datatypes using to_datetime pandas\n",
    "    \"\"\"\n",
    "    # convert to the proper data type \n",
    "    df['start_date_time'] = pd.to_datetime(df['start_date_time'])\n",
    "    df['end_date_time'] = pd.to_datetime(df['end_date_time'])\n",
    "\n",
    "    ## this coulmn has high cardinality so I better create new coulmns that I can filter by\n",
    "    # Like the day of the week and the month and the year and the time\n",
    "    df['start_month'] = df['start_date_time'].dt.strftime('%B').str.lower()\n",
    "    df['start_day'] = df['start_date_time'].dt.strftime('%A').str.lower()\n",
    "    df['start_year'] = df['start_date_time'].dt.strftime('%Y')\n",
    "    df['start_time'] = df['start_date_time'].dt.strftime('%X')\n",
    "    \n",
    "    df['end_month'] = df['end_date_time'].dt.strftime('%B').str.lower()\n",
    "    df['end_day'] = df['end_date_time'].dt.strftime('%A').str.lower()\n",
    "    df['end_year'] = df['end_date_time'].dt.strftime('%Y')\n",
    "    df['end_time'] = df['end_date_time'].dt.strftime('%X')\n",
    "    \n",
    "    if city in ('new york city', 'chicago'):\n",
    "        df['birth_year'] = pd.to_datetime(df['birth_year'])\n",
    "        # we have also the coulmn of Birth year \n",
    "        # df['Birth Year'] = pd.to_datetime(df['Birth Year'], format='%Y')\n",
    "        # this is not working for users stats \n",
    "        # I have decided to handle this one as integer to get the min and max values\n",
    "        df['birth_year'] = pd.to_numeric(df['birth_year'],errors='coerce' , downcast='integer')\n",
    "\n",
    "    # dropped them after I handeld them\n",
    "    df.drop('start_date_time', axis=1, inplace=True) \n",
    "    df.drop('end_date_time', axis=1, inplace=True) \n",
    "\n",
    "    return df"
   ]
  },
  {
   "cell_type": "code",
   "execution_count": 8,
   "id": "a4bc52c4",
   "metadata": {
    "execution": {
     "iopub.execute_input": "2024-06-11T21:34:42.707860Z",
     "iopub.status.busy": "2024-06-11T21:34:42.707454Z",
     "iopub.status.idle": "2024-06-11T21:34:42.716124Z",
     "shell.execute_reply": "2024-06-11T21:34:42.714628Z"
    },
    "papermill": {
     "duration": 0.019117,
     "end_time": "2024-06-11T21:34:42.718706",
     "exception": false,
     "start_time": "2024-06-11T21:34:42.699589",
     "status": "completed"
    },
    "tags": []
   },
   "outputs": [],
   "source": [
    "# this method gets the time travel frequent times\n",
    "# to get that I used the mode built-in method\n",
    "def time_stats(df):\n",
    "    \"\"\"Displays statistics on the most frequent times of travel.\"\"\"\n",
    "\n",
    "    print('\\nCalculating The Most Frequent Times of Travel...\\n')\n",
    "    start_time = time.time()\n",
    "\n",
    "    # the most common month\n",
    "    print('The most frequent month is: ', df['start_month'].mode()[0])\n",
    "    \n",
    "    # the most common day of week\n",
    "    print('The most frequent day is: ', df['start_day'].mode()[0])\n",
    "\n",
    "    # the most common start hour\n",
    "    print('The most commoon start hour is: ', df['start_time'].mode()[0])\n",
    "\n",
    "    print(\"\\nThis took %s seconds.\" % (time.time() - start_time))\n",
    "    print('-'*40)"
   ]
  },
  {
   "cell_type": "code",
   "execution_count": 9,
   "id": "9e27b61f",
   "metadata": {
    "execution": {
     "iopub.execute_input": "2024-06-11T21:34:42.735206Z",
     "iopub.status.busy": "2024-06-11T21:34:42.734248Z",
     "iopub.status.idle": "2024-06-11T21:34:42.742362Z",
     "shell.execute_reply": "2024-06-11T21:34:42.741308Z"
    },
    "papermill": {
     "duration": 0.018926,
     "end_time": "2024-06-11T21:34:42.744976",
     "exception": false,
     "start_time": "2024-06-11T21:34:42.726050",
     "status": "completed"
    },
    "tags": []
   },
   "outputs": [],
   "source": [
    "# in this method I get some statics about the stations of the trip\n",
    "# used mode and groupby \n",
    "def station_stats(df):\n",
    "    \"\"\"Displays statistics on the most popular stations and trip.\"\"\"\n",
    "\n",
    "    print('\\nCalculating The Most Popular Stations and Trip...\\n')\n",
    "    start_time = time.time()\n",
    "\n",
    "    # most commonly used start station\n",
    "    print('The most commonly used start station is: ', df['start_station_name'].mode()[0] )\n",
    "\n",
    "    # most commonly used end station\n",
    "    print('The most commonly used end station is: ', df['end_station_name'].mode()[0] )\n",
    "\n",
    "    # most frequent combination of start station and end station trip\n",
    "    print('The most frequent combination of start station and end station trip is: ', \n",
    "          df.groupby(['start_station_name','end_station_name']).size().idxmax())\n",
    "\n",
    "    print(\"\\nThis took %s seconds.\" % (time.time() - start_time))\n",
    "    print('-'*40)"
   ]
  },
  {
   "cell_type": "code",
   "execution_count": 10,
   "id": "790c231f",
   "metadata": {
    "execution": {
     "iopub.execute_input": "2024-06-11T21:34:42.759921Z",
     "iopub.status.busy": "2024-06-11T21:34:42.759502Z",
     "iopub.status.idle": "2024-06-11T21:34:42.766471Z",
     "shell.execute_reply": "2024-06-11T21:34:42.765356Z"
    },
    "papermill": {
     "duration": 0.017268,
     "end_time": "2024-06-11T21:34:42.768901",
     "exception": false,
     "start_time": "2024-06-11T21:34:42.751633",
     "status": "completed"
    },
    "tags": []
   },
   "outputs": [],
   "source": [
    "# In this method I get some statics about the trip duration \n",
    "# used the sum, mean aggregation functions\n",
    "def trip_duration_stats(df):\n",
    "    \"\"\"Displays statistics on the total and average trip duration.\"\"\"\n",
    "\n",
    "    print('\\nCalculating Trip Duration...\\n')\n",
    "    start_time = time.time()\n",
    "\n",
    "    # total travel time\n",
    "    # the trip duration coulmn is in seconds \n",
    "    # to make it more readable I convert it to days by dividing it on 86400\n",
    "    print('The total travel time in hours is: ', df['trip_duration'].sum()/86400)\n",
    "\n",
    "    # mean travel time\n",
    "    print('The average travel time in minutes is: ', df['trip_duration'].mean()/60)\n",
    "\n",
    "    print(\"\\nThis took %s seconds.\" % (time.time() - start_time))\n",
    "    print('-'*40)"
   ]
  },
  {
   "cell_type": "code",
   "execution_count": 11,
   "id": "2274ab19",
   "metadata": {
    "execution": {
     "iopub.execute_input": "2024-06-11T21:34:42.784187Z",
     "iopub.status.busy": "2024-06-11T21:34:42.783782Z",
     "iopub.status.idle": "2024-06-11T21:34:42.794699Z",
     "shell.execute_reply": "2024-06-11T21:34:42.793267Z"
    },
    "papermill": {
     "duration": 0.021533,
     "end_time": "2024-06-11T21:34:42.797214",
     "exception": false,
     "start_time": "2024-06-11T21:34:42.775681",
     "status": "completed"
    },
    "tags": []
   },
   "outputs": [],
   "source": [
    "# In this method I get some statics about the users\n",
    "# Using \n",
    "def user_stats(df, city):\n",
    "    \"\"\"Displays statistics on bikeshare users.\"\"\"\n",
    "\n",
    "    print('\\nCalculating User Stats...\\n')\n",
    "    start_time = time.time()\n",
    "\n",
    "    # counts of user types\n",
    "    print('In this city, we have diffrent types of users as follows: ')\n",
    "    print(df['usertype'].value_counts())\n",
    "\n",
    "    # this condition because the washington csv doens't include gender and year birth coulmns\n",
    "    if city in ('new york city', 'chicago'):\n",
    "        # counts users based on gender\n",
    "        print('The total count of each gender is as follow: ')\n",
    "        print('Females:', df['gender'].value_counts().get(\"Female\", 0))\n",
    "        print('Males:', df['gender'].value_counts().get(\"Male\", 0))\n",
    "        print('Unknown:', df['gender'].value_counts().get(\"Unknown\", 0))\n",
    "\n",
    "        # So because I don't want to include the unknown value of these I will use a filter on the dataset \n",
    "        #  earliest year of birth \n",
    "        print('The earliest year of birth is: ', df['birth_year'].min())\n",
    "\n",
    "        # Something doesn't add up here because it first displays to me the (unknown) so because I used it to fill the missing data\n",
    "        # I am thinking to impute the missing birth year with the mode of it \n",
    "        # but this will effect the time since I already imputed why impute twice\n",
    "        # so what can I do ?\n",
    "\n",
    "        #  most recent of birth \n",
    "        print('The most recent year of birth is: ', df['birth_year'].max())\n",
    "\n",
    "        #  most common year of birth\n",
    "        print('The most common year of birth is: ', df['birth_year'].mode()[0])\n",
    "\n",
    "    print(\"\\nThis took %s seconds.\" % (time.time() - start_time))\n",
    "    print('-'*40)"
   ]
  },
  {
   "cell_type": "code",
   "execution_count": 12,
   "id": "08a3511a",
   "metadata": {
    "execution": {
     "iopub.execute_input": "2024-06-11T21:34:42.812316Z",
     "iopub.status.busy": "2024-06-11T21:34:42.811954Z",
     "iopub.status.idle": "2024-06-11T21:34:42.819964Z",
     "shell.execute_reply": "2024-06-11T21:34:42.818474Z"
    },
    "papermill": {
     "duration": 0.018476,
     "end_time": "2024-06-11T21:34:42.822457",
     "exception": false,
     "start_time": "2024-06-11T21:34:42.803981",
     "status": "completed"
    },
    "tags": []
   },
   "outputs": [],
   "source": [
    "## in this method i take the user input and handle the entries to make sure they are valid\n",
    "def entery_validation(input_message, valid_inputs, invalid_messgae):\n",
    "    \"\"\"\n",
    "    Function that verifies the user input and if there was a problem it returns a prompt\n",
    "    Args:\n",
    "        (str) input_message - the message displayed to ask the user of input\n",
    "        (list) valid_inputs - a list of enteries that are valid\n",
    "        (str) invalid_messgae - a message to be displayed if the input is invalid\n",
    "    Returns:\n",
    "        (str) input - returns the input when it's valid\n",
    "    \"\"\"\n",
    "    ## while \n",
    "    while True:\n",
    "        input_value = str(input(\"\\n\"+ input_message +\"\\n\"))\n",
    "        input_value = input_value.lower()\n",
    "        if input_value not in valid_inputs:\n",
    "            print(invalid_messgae)\n",
    "            continue\n",
    "        else:\n",
    "            break\n",
    "    return input_value"
   ]
  },
  {
   "cell_type": "code",
   "execution_count": 13,
   "id": "6727c313",
   "metadata": {
    "execution": {
     "iopub.execute_input": "2024-06-11T21:34:42.838213Z",
     "iopub.status.busy": "2024-06-11T21:34:42.837174Z",
     "iopub.status.idle": "2024-06-11T21:34:42.848077Z",
     "shell.execute_reply": "2024-06-11T21:34:42.846716Z"
    },
    "papermill": {
     "duration": 0.021498,
     "end_time": "2024-06-11T21:34:42.850711",
     "exception": false,
     "start_time": "2024-06-11T21:34:42.829213",
     "status": "completed"
    },
    "tags": []
   },
   "outputs": [],
   "source": [
    "#### in this method get the filters inputted by the user\n",
    "def get_filters():\n",
    "    \"\"\"\n",
    "    Asks user to specify a city, month, and day to analyze.\n",
    "\n",
    "    Returns:\n",
    "        (str) city - name of the city to analyze\n",
    "        (str) month - name of the month to filter by, or \"all\" to apply no month filter\n",
    "        (str) day - name of the day of week to filter by, or \"all\" to apply no day filter\n",
    "    \"\"\"\n",
    "    print('\\nHello! Let\\'s explore some US bikeshare data!')\n",
    "    #####\n",
    "    # In those cases an invalid input is handled by asking the user to try again until it's true input\n",
    "    # because this is a redundunt code It was suggested to create anpther method that takes a message and returns the input if valid\n",
    "    ####\n",
    "    \n",
    "    \"\"\" City input \"\"\"\n",
    "    city_input_message = \"Which City would like to explore? All, Chicago, New york city, Or Washington?\"\n",
    "    city_invalid_message = \"Try to enter another city that is either: Chicago, New york city, Or Washington \"\n",
    "    city_valid_enteries = ('all','new york city', 'chicago', 'washington')\n",
    "    # get user input for city (chicago, new york city, washington). \n",
    "    city = entery_validation(city_input_message, city_valid_enteries,city_invalid_message)\n",
    "\n",
    "    \"\"\" Month input \"\"\"\n",
    "    month_input_message = \"In which of the months you want to explore? is it (all, january, february, ... , june)\"\n",
    "    month_invalid_message = \"Try to enter the month again, it wasn't a valid month!\"\n",
    "    month_valid_enteries = ('all','january','february','march','april','may','june','july','august','september','october','november','december')\n",
    "    # get user input for month (all, january, february, ... , june)\n",
    "    month = entery_validation(month_input_message, month_valid_enteries, month_invalid_message)\n",
    "\n",
    "    \"\"\" Day input \"\"\"\n",
    "    day_input_messgae = \"What about the day you are looking for? is it (all, monday, tuesday, ... sunday)?\"\n",
    "    day_inavlid_message = \"You entered a not valid day, try again\"\n",
    "    day_valid_enteries = ('sunday','monday','all','tuesday','wednesday','thursday','friday','saturday')\n",
    "    # get user input for day of week (all, monday, tuesday, ... sunday)\n",
    "    day = entery_validation(day_input_messgae, day_valid_enteries, day_inavlid_message)\n",
    "\n",
    "    print('-'*40)\n",
    "    return city, month, day"
   ]
  },
  {
   "cell_type": "code",
   "execution_count": 14,
   "id": "b1170a7e",
   "metadata": {
    "execution": {
     "iopub.execute_input": "2024-06-11T21:34:42.866185Z",
     "iopub.status.busy": "2024-06-11T21:34:42.865783Z",
     "iopub.status.idle": "2024-06-11T21:34:42.873207Z",
     "shell.execute_reply": "2024-06-11T21:34:42.871975Z"
    },
    "papermill": {
     "duration": 0.018347,
     "end_time": "2024-06-11T21:34:42.876010",
     "exception": false,
     "start_time": "2024-06-11T21:34:42.857663",
     "status": "completed"
    },
    "tags": []
   },
   "outputs": [],
   "source": [
    "# In this function I ask the user if they want to see 5 of the rows\n",
    "# I use the head method build in by pandas to do that\n",
    "def display_data(df):\n",
    "    view_data = input('\\nWould you like to view 5 rows of individual trip data? Enter yes or no\\n').lower()\n",
    "    start_locaction = 0\n",
    "\n",
    "    # I actually will famalrize myself with df.iloc, I like the suggestion, the idea that I went for here that also came to my mind is \n",
    "    # using the head function with its parameter \n",
    "    \n",
    "    while view_data == 'yes':\n",
    "        # while the usr wish to print print\n",
    "        # print(df.head(start_locaction))\n",
    "\n",
    "        # So I started this solution but It doesn't actually perform this functionality \n",
    "        # it prints from the first \n",
    "        # So I will go for the suggested way hhhhhh\n",
    "        \n",
    "        #using iloc\n",
    "        display(df.iloc[start_locaction:start_locaction+5])\n",
    "        # change the start location of the head print\n",
    "        start_locaction=start_locaction +5\n",
    "        view_data = input(\"Do you want to proceed showing the next 5 rows?\\n\").lower()"
   ]
  },
  {
   "cell_type": "code",
   "execution_count": 15,
   "id": "9c42099e",
   "metadata": {
    "execution": {
     "iopub.execute_input": "2024-06-11T21:34:42.891103Z",
     "iopub.status.busy": "2024-06-11T21:34:42.890698Z",
     "iopub.status.idle": "2024-06-11T21:34:42.899918Z",
     "shell.execute_reply": "2024-06-11T21:34:42.898869Z"
    },
    "papermill": {
     "duration": 0.019758,
     "end_time": "2024-06-11T21:34:42.902451",
     "exception": false,
     "start_time": "2024-06-11T21:34:42.882693",
     "status": "completed"
    },
    "tags": []
   },
   "outputs": [],
   "source": [
    "def main():\n",
    "    # start the program until the user hits no ot there exists an exception\n",
    "    try:\n",
    "        while True:\n",
    "            # gets the filters \n",
    "            city, month, day = get_filters()\n",
    "\n",
    "            # load the dataset\n",
    "            df = load_data(city, month, day)\n",
    "\n",
    "            # clean the dataset\n",
    "            # Here I pass the city because in case the city is washington \n",
    "            # coulmns Gender and Birth Year coulmns doesn't exist \n",
    "            df= clean_data(df, city)\n",
    "\n",
    "            # ask the user if they want to print the data\n",
    "            display_data(df)\n",
    "\n",
    "            # Display diffrent statics of the dataset\n",
    "            time_stats(df)\n",
    "            station_stats(df)\n",
    "            trip_duration_stats(df)\n",
    "            # Here I pass the city because in case the city is washington \n",
    "            # coulmns Gender and Birth Year coulmns doesn't exist \n",
    "            user_stats(df, city)\n",
    "\n",
    "            # the user can restart and try diffrent cities if they \n",
    "            # key hit no the program will hault \n",
    "            restart = str(input('\\nWould you like to restart? Enter yes or no.\\n'))\n",
    "            if restart.lower() != 'yes':\n",
    "                break\n",
    "    # Any exception that occures will be printed and traced \n",
    "    except Exception as e:\n",
    "        print(\"The program encountered an error: \", \n",
    "            type(e).__name__, \" : \", e)\n",
    "        traceback.print_exc()"
   ]
  },
  {
   "cell_type": "code",
   "execution_count": 16,
   "id": "82c1424e",
   "metadata": {
    "execution": {
     "iopub.execute_input": "2024-06-11T21:34:42.918337Z",
     "iopub.status.busy": "2024-06-11T21:34:42.917941Z",
     "iopub.status.idle": "2024-06-11T21:34:42.927073Z",
     "shell.execute_reply": "2024-06-11T21:34:42.925732Z"
    },
    "papermill": {
     "duration": 0.021375,
     "end_time": "2024-06-11T21:34:42.930667",
     "exception": false,
     "start_time": "2024-06-11T21:34:42.909292",
     "status": "completed"
    },
    "tags": []
   },
   "outputs": [
    {
     "name": "stdout",
     "output_type": "stream",
     "text": [
      "\n",
      "Hello! Let's explore some US bikeshare data!\n",
      "The program encountered an error:  StdinNotImplementedError  :  raw_input was called, but this frontend does not support input requests.\n"
     ]
    },
    {
     "name": "stderr",
     "output_type": "stream",
     "text": [
      "Traceback (most recent call last):\n",
      "  File \"/tmp/ipykernel_18/489847546.py\", line 6, in main\n",
      "    city, month, day = get_filters()\n",
      "  File \"/tmp/ipykernel_18/3413388724.py\", line 22, in get_filters\n",
      "    city = entery_validation(city_input_message, city_valid_enteries,city_invalid_message)\n",
      "  File \"/tmp/ipykernel_18/1375943344.py\", line 14, in entery_validation\n",
      "    input_value = str(input(\"\\n\"+ input_message +\"\\n\"))\n",
      "  File \"/opt/conda/lib/python3.10/site-packages/ipykernel/kernelbase.py\", line 1261, in raw_input\n",
      "    raise StdinNotImplementedError(msg)\n",
      "IPython.core.error.StdinNotImplementedError: raw_input was called, but this frontend does not support input requests.\n"
     ]
    }
   ],
   "source": [
    "main()"
   ]
  }
 ],
 "metadata": {
  "kaggle": {
   "accelerator": "none",
   "dataSources": [
    {
     "datasetId": 8486,
     "sourceId": 11870,
     "sourceType": "datasetVersion"
    }
   ],
   "dockerImageVersionId": 30732,
   "isGpuEnabled": false,
   "isInternetEnabled": true,
   "language": "python",
   "sourceType": "notebook"
  },
  "kernelspec": {
   "display_name": "Python 3",
   "language": "python",
   "name": "python3"
  },
  "language_info": {
   "codemirror_mode": {
    "name": "ipython",
    "version": 3
   },
   "file_extension": ".py",
   "mimetype": "text/x-python",
   "name": "python",
   "nbconvert_exporter": "python",
   "pygments_lexer": "ipython3",
   "version": "3.10.13"
  },
  "papermill": {
   "default_parameters": {},
   "duration": 5.129308,
   "end_time": "2024-06-11T21:34:43.458440",
   "environment_variables": {},
   "exception": null,
   "input_path": "__notebook__.ipynb",
   "output_path": "__notebook__.ipynb",
   "parameters": {},
   "start_time": "2024-06-11T21:34:38.329132",
   "version": "2.5.0"
  }
 },
 "nbformat": 4,
 "nbformat_minor": 5
}
